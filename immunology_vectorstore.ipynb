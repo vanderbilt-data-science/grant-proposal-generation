{
  "cells": [
    {
      "cell_type": "markdown",
      "metadata": {
        "id": "view-in-github",
        "colab_type": "text"
      },
      "source": [
        "<a href=\"https://colab.research.google.com/github/vanderbilt-data-science/grant-proposal-generation/blob/main/immunology_vectorstore.ipynb\" target=\"_parent\"><img src=\"https://colab.research.google.com/assets/colab-badge.svg\" alt=\"Open In Colab\"/></a>"
      ]
    },
    {
      "cell_type": "code",
      "execution_count": 1,
      "metadata": {
        "id": "61Nr1Z9BHTbF",
        "colab": {
          "base_uri": "https://localhost:8080/"
        },
        "outputId": "af08df0c-0bff-4c94-fce7-e9f71fae87ff"
      },
      "outputs": [
        {
          "output_type": "stream",
          "name": "stdout",
          "text": [
            "\u001b[2K     \u001b[90m━━━━━━━━━━━━━━━━━━━━━━━━━━━━━━━━━━━━━━\u001b[0m \u001b[32m858.2/858.2 kB\u001b[0m \u001b[31m47.5 MB/s\u001b[0m eta \u001b[36m0:00:00\u001b[0m\n",
            "\u001b[2K     \u001b[90m━━━━━━━━━━━━━━━━━━━━━━━━━━━━━━━━━━━━━━━━\u001b[0m \u001b[32m1.0/1.0 MB\u001b[0m \u001b[31m69.7 MB/s\u001b[0m eta \u001b[36m0:00:00\u001b[0m\n",
            "\u001b[2K     \u001b[90m━━━━━━━━━━━━━━━━━━━━━━━━━━━━━━━━━━━━━━━━\u001b[0m \u001b[32m90.0/90.0 kB\u001b[0m \u001b[31m7.8 MB/s\u001b[0m eta \u001b[36m0:00:00\u001b[0m\n",
            "\u001b[2K     \u001b[90m━━━━━━━━━━━━━━━━━━━━━━━━━━━━━━━━━━━━━━\u001b[0m \u001b[32m114.5/114.5 kB\u001b[0m \u001b[31m14.7 MB/s\u001b[0m eta \u001b[36m0:00:00\u001b[0m\n",
            "\u001b[2K     \u001b[90m━━━━━━━━━━━━━━━━━━━━━━━━━━━━━━━━━━━━━━\u001b[0m \u001b[32m268.8/268.8 kB\u001b[0m \u001b[31m30.9 MB/s\u001b[0m eta \u001b[36m0:00:00\u001b[0m\n",
            "\u001b[2K     \u001b[90m━━━━━━━━━━━━━━━━━━━━━━━━━━━━━━━━━━━━━━\u001b[0m \u001b[32m149.6/149.6 kB\u001b[0m \u001b[31m17.8 MB/s\u001b[0m eta \u001b[36m0:00:00\u001b[0m\n",
            "\u001b[2K     \u001b[90m━━━━━━━━━━━━━━━━━━━━━━━━━━━━━━━━━━━━━━━━\u001b[0m \u001b[32m49.1/49.1 kB\u001b[0m \u001b[31m6.2 MB/s\u001b[0m eta \u001b[36m0:00:00\u001b[0m\n",
            "\u001b[2K     \u001b[90m━━━━━━━━━━━━━━━━━━━━━━━━━━━━━━━━━━━━━━━━\u001b[0m \u001b[32m71.9/71.9 kB\u001b[0m \u001b[31m2.2 MB/s\u001b[0m eta \u001b[36m0:00:00\u001b[0m\n",
            "\u001b[2K     \u001b[90m━━━━━━━━━━━━━━━━━━━━━━━━━━━━━━━━━━━━━━━━\u001b[0m \u001b[32m17.4/17.4 MB\u001b[0m \u001b[31m88.2 MB/s\u001b[0m eta \u001b[36m0:00:00\u001b[0m\n",
            "\u001b[2K     \u001b[90m━━━━━━━━━━━━━━━━━━━━━━━━━━━━━━━━━━━━━━━━\u001b[0m \u001b[32m57.0/57.0 kB\u001b[0m \u001b[31m7.0 MB/s\u001b[0m eta \u001b[36m0:00:00\u001b[0m\n",
            "\u001b[?25h  Preparing metadata (setup.py) ... \u001b[?25l\u001b[?25hdone\n",
            "\u001b[2K     \u001b[90m━━━━━━━━━━━━━━━━━━━━━━━━━━━━━━━━━━━━━━\u001b[0m \u001b[32m288.1/288.1 kB\u001b[0m \u001b[31m32.8 MB/s\u001b[0m eta \u001b[36m0:00:00\u001b[0m\n",
            "\u001b[2K     \u001b[90m━━━━━━━━━━━━━━━━━━━━━━━━━━━━━━━━━━━━━━━━\u001b[0m \u001b[32m75.4/75.4 kB\u001b[0m \u001b[31m9.5 MB/s\u001b[0m eta \u001b[36m0:00:00\u001b[0m\n",
            "\u001b[2K     \u001b[90m━━━━━━━━━━━━━━━━━━━━━━━━━━━━━━━━━━━━━━\u001b[0m \u001b[32m224.5/224.5 kB\u001b[0m \u001b[31m24.4 MB/s\u001b[0m eta \u001b[36m0:00:00\u001b[0m\n",
            "\u001b[2K     \u001b[90m━━━━━━━━━━━━━━━━━━━━━━━━━━━━━━━━━━━━━━━━\u001b[0m \u001b[32m50.5/50.5 kB\u001b[0m \u001b[31m6.4 MB/s\u001b[0m eta \u001b[36m0:00:00\u001b[0m\n",
            "\u001b[2K     \u001b[90m━━━━━━━━━━━━━━━━━━━━━━━━━━━━━━━━━━━━━━\u001b[0m \u001b[32m137.2/137.2 kB\u001b[0m \u001b[31m14.8 MB/s\u001b[0m eta \u001b[36m0:00:00\u001b[0m\n",
            "\u001b[2K     \u001b[90m━━━━━━━━━━━━━━━━━━━━━━━━━━━━━━━━━━━━━━━━\u001b[0m \u001b[32m45.7/45.7 kB\u001b[0m \u001b[31m5.5 MB/s\u001b[0m eta \u001b[36m0:00:00\u001b[0m\n",
            "\u001b[2K     \u001b[90m━━━━━━━━━━━━━━━━━━━━━━━━━━━━━━━━━━━━━━━━\u001b[0m \u001b[32m58.3/58.3 kB\u001b[0m \u001b[31m7.2 MB/s\u001b[0m eta \u001b[36m0:00:00\u001b[0m\n",
            "\u001b[2K     \u001b[90m━━━━━━━━━━━━━━━━━━━━━━━━━━━━━━━━━━━━━━\u001b[0m \u001b[32m129.9/129.9 kB\u001b[0m \u001b[31m16.7 MB/s\u001b[0m eta \u001b[36m0:00:00\u001b[0m\n",
            "\u001b[2K     \u001b[90m━━━━━━━━━━━━━━━━━━━━━━━━━━━━━━━━━━━━━━━━\u001b[0m \u001b[32m58.3/58.3 kB\u001b[0m \u001b[31m6.8 MB/s\u001b[0m eta \u001b[36m0:00:00\u001b[0m\n",
            "\u001b[2K     \u001b[90m━━━━━━━━━━━━━━━━━━━━━━━━━━━━━━━━━━━━━━━━\u001b[0m \u001b[32m67.0/67.0 kB\u001b[0m \u001b[31m7.5 MB/s\u001b[0m eta \u001b[36m0:00:00\u001b[0m\n",
            "\u001b[2K     \u001b[90m━━━━━━━━━━━━━━━━━━━━━━━━━━━━━━━━━━━━━━━━\u001b[0m \u001b[32m70.9/70.9 kB\u001b[0m \u001b[31m7.6 MB/s\u001b[0m eta \u001b[36m0:00:00\u001b[0m\n",
            "\u001b[?25h  Building wheel for ffmpy (setup.py) ... \u001b[?25l\u001b[?25hdone\n",
            "\u001b[2K     \u001b[90m━━━━━━━━━━━━━━━━━━━━━━━━━━━━━━━━━━━━━━━\u001b[0m \u001b[32m248.8/248.8 kB\u001b[0m \u001b[31m1.3 MB/s\u001b[0m eta \u001b[36m0:00:00\u001b[0m\n",
            "\u001b[2K     \u001b[90m━━━━━━━━━━━━━━━━━━━━━━━━━━━━━━━━━━━━━━━\u001b[0m \u001b[32m493.7/493.7 kB\u001b[0m \u001b[31m9.9 MB/s\u001b[0m eta \u001b[36m0:00:00\u001b[0m\n",
            "\u001b[?25h  Preparing metadata (setup.py) ... \u001b[?25l\u001b[?25hdone\n",
            "\u001b[2K     \u001b[90m━━━━━━━━━━━━━━━━━━━━━━━━━━━━━━━━━━━━━━\u001b[0m \u001b[32m135.6/135.6 kB\u001b[0m \u001b[31m17.0 MB/s\u001b[0m eta \u001b[36m0:00:00\u001b[0m\n",
            "\u001b[2K     \u001b[90m━━━━━━━━━━━━━━━━━━━━━━━━━━━━━━━━━━━━━━━━\u001b[0m \u001b[32m79.8/79.8 kB\u001b[0m \u001b[31m9.7 MB/s\u001b[0m eta \u001b[36m0:00:00\u001b[0m\n",
            "\u001b[2K     \u001b[90m━━━━━━━━━━━━━━━━━━━━━━━━━━━━━━━━━━━━━━━━\u001b[0m \u001b[32m6.7/6.7 MB\u001b[0m \u001b[31m76.1 MB/s\u001b[0m eta \u001b[36m0:00:00\u001b[0m\n",
            "\u001b[2K     \u001b[90m━━━━━━━━━━━━━━━━━━━━━━━━━━━━━━━━━━━━━━━━\u001b[0m \u001b[32m72.7/72.7 kB\u001b[0m \u001b[31m8.9 MB/s\u001b[0m eta \u001b[36m0:00:00\u001b[0m\n",
            "\u001b[2K     \u001b[90m━━━━━━━━━━━━━━━━━━━━━━━━━━━━━━━━━━━━━━━\u001b[0m \u001b[32m10.4/10.4 MB\u001b[0m \u001b[31m120.0 MB/s\u001b[0m eta \u001b[36m0:00:00\u001b[0m\n",
            "\u001b[2K     \u001b[90m━━━━━━━━━━━━━━━━━━━━━━━━━━━━━━━━━━━━━━\u001b[0m \u001b[32m132.7/132.7 kB\u001b[0m \u001b[31m15.8 MB/s\u001b[0m eta \u001b[36m0:00:00\u001b[0m\n",
            "\u001b[2K     \u001b[90m━━━━━━━━━━━━━━━━━━━━━━━━━━━━━━━━━━━━━━━━\u001b[0m \u001b[32m79.8/79.8 kB\u001b[0m \u001b[31m10.3 MB/s\u001b[0m eta \u001b[36m0:00:00\u001b[0m\n",
            "\u001b[2K     \u001b[90m━━━━━━━━━━━━━━━━━━━━━━━━━━━━━━━━━━━━━━━━\u001b[0m \u001b[32m52.8/52.8 kB\u001b[0m \u001b[31m6.4 MB/s\u001b[0m eta \u001b[36m0:00:00\u001b[0m\n",
            "\u001b[2K     \u001b[90m━━━━━━━━━━━━━━━━━━━━━━━━━━━━━━━━━━━━━━\u001b[0m \u001b[32m110.5/110.5 kB\u001b[0m \u001b[31m13.1 MB/s\u001b[0m eta \u001b[36m0:00:00\u001b[0m\n",
            "\u001b[2K     \u001b[90m━━━━━━━━━━━━━━━━━━━━━━━━━━━━━━━━━━━━━━\u001b[0m \u001b[32m134.3/134.3 kB\u001b[0m \u001b[31m14.9 MB/s\u001b[0m eta \u001b[36m0:00:00\u001b[0m\n",
            "\u001b[?25h  Building wheel for deeplake (setup.py) ... \u001b[?25l\u001b[?25hdone\n",
            "\u001b[2K     \u001b[90m━━━━━━━━━━━━━━━━━━━━━━━━━━━━━━━━━━━━━━━━\u001b[0m \u001b[32m1.7/1.7 MB\u001b[0m \u001b[31m30.5 MB/s\u001b[0m eta \u001b[36m0:00:00\u001b[0m\n",
            "\u001b[?25h"
          ]
        }
      ],
      "source": [
        "!pip install -q langchain\n",
        "!pip install -q openai\n",
        "!pip install -q gradio\n",
        "!pip install -q pypdf\n",
        "!pip install -q deeplake\n",
        "!pip install -q tiktoken"
      ]
    },
    {
      "cell_type": "code",
      "execution_count": 2,
      "metadata": {
        "id": "hHA7O9oEHRrR"
      },
      "outputs": [],
      "source": [
        "import openai\n",
        "import random\n",
        "import time\n",
        "import gradio as gr\n",
        "import os\n",
        "from langchain.embeddings.openai import OpenAIEmbeddings\n",
        "from langchain.vectorstores import DeepLake\n",
        "from langchain.chat_models import ChatOpenAI\n",
        "from langchain.chains import ConversationalRetrievalChain\n",
        "from langchain.document_loaders import TextLoader\n",
        "from langchain.text_splitter import CharacterTextSplitter\n",
        "from langchain.document_loaders import PyPDFDirectoryLoader"
      ]
    },
    {
      "cell_type": "code",
      "execution_count": 3,
      "metadata": {
        "colab": {
          "base_uri": "https://localhost:8080/"
        },
        "id": "i3jFmmyTSlcM",
        "outputId": "8536b937-1338-4203-ee95-b9a52b6b740c"
      },
      "outputs": [
        {
          "name": "stdout",
          "output_type": "stream",
          "text": [
            "··········\n"
          ]
        }
      ],
      "source": [
        "# add API key for the session\n",
        "\n",
        "##NOTE: YOU WILL NEED TO SET THE API KEY BEFORE CREATING THE DATASTORE\n",
        "from getpass import getpass\n",
        "openai_api_key = getpass()\n",
        "\n",
        "os.environ[\"OPENAI_API_KEY\"] = openai_api_key\n"
      ]
    },
    {
      "cell_type": "code",
      "execution_count": 4,
      "metadata": {
        "colab": {
          "base_uri": "https://localhost:8080/"
        },
        "id": "gO0NA6sKFUhW",
        "outputId": "6c420055-137f-4311-e99e-f5d3eff8c791"
      },
      "outputs": [
        {
          "output_type": "stream",
          "name": "stdout",
          "text": [
            "--2023-05-19 16:17:59--  https://github.com/vanderbilt-data-science/grant-proposal-generation/raw/main/literature/antigenic_mapping.pdf\n",
            "Resolving github.com (github.com)... 20.205.243.166\n",
            "Connecting to github.com (github.com)|20.205.243.166|:443... connected.\n",
            "HTTP request sent, awaiting response... 302 Found\n",
            "Location: https://raw.githubusercontent.com/vanderbilt-data-science/grant-proposal-generation/main/literature/antigenic_mapping.pdf [following]\n",
            "--2023-05-19 16:17:59--  https://raw.githubusercontent.com/vanderbilt-data-science/grant-proposal-generation/main/literature/antigenic_mapping.pdf\n",
            "Resolving raw.githubusercontent.com (raw.githubusercontent.com)... 185.199.109.133, 185.199.110.133, 185.199.111.133, ...\n",
            "Connecting to raw.githubusercontent.com (raw.githubusercontent.com)|185.199.109.133|:443... connected.\n",
            "HTTP request sent, awaiting response... 200 OK\n",
            "Length: 5469040 (5.2M) [application/octet-stream]\n",
            "Saving to: ‘papers/antigenic_mapping.pdf’\n",
            "\n",
            "antigenic_mapping.p 100%[===================>]   5.21M  --.-KB/s    in 0.02s   \n",
            "\n",
            "2023-05-19 16:18:00 (257 MB/s) - ‘papers/antigenic_mapping.pdf’ saved [5469040/5469040]\n",
            "\n",
            "--2023-05-19 16:18:00--  https://github.com/vanderbilt-data-science/grant-proposal-generation/raw/main/literature/neutralizing_antibodies.pdf\n",
            "Resolving github.com (github.com)... 20.205.243.166\n",
            "Connecting to github.com (github.com)|20.205.243.166|:443... connected.\n",
            "HTTP request sent, awaiting response... 302 Found\n",
            "Location: https://raw.githubusercontent.com/vanderbilt-data-science/grant-proposal-generation/main/literature/neutralizing_antibodies.pdf [following]\n",
            "--2023-05-19 16:18:01--  https://raw.githubusercontent.com/vanderbilt-data-science/grant-proposal-generation/main/literature/neutralizing_antibodies.pdf\n",
            "Resolving raw.githubusercontent.com (raw.githubusercontent.com)... 185.199.108.133, 185.199.109.133, 185.199.110.133, ...\n",
            "Connecting to raw.githubusercontent.com (raw.githubusercontent.com)|185.199.108.133|:443... connected.\n",
            "HTTP request sent, awaiting response... 200 OK\n",
            "Length: 4444518 (4.2M) [application/octet-stream]\n",
            "Saving to: ‘papers/neutralizing_antibodies.pdf’\n",
            "\n",
            "neutralizing_antibo 100%[===================>]   4.24M  --.-KB/s    in 0.01s   \n",
            "\n",
            "2023-05-19 16:18:01 (307 MB/s) - ‘papers/neutralizing_antibodies.pdf’ saved [4444518/4444518]\n",
            "\n",
            "--2023-05-19 16:18:01--  https://github.com/vanderbilt-data-science/grant-proposal-generation/raw/main/literature/philosophy_of_immunology.pdf\n",
            "Resolving github.com (github.com)... 20.205.243.166\n",
            "Connecting to github.com (github.com)|20.205.243.166|:443... connected.\n",
            "HTTP request sent, awaiting response... 302 Found\n",
            "Location: https://raw.githubusercontent.com/vanderbilt-data-science/grant-proposal-generation/main/literature/philosophy_of_immunology.pdf [following]\n",
            "--2023-05-19 16:18:02--  https://raw.githubusercontent.com/vanderbilt-data-science/grant-proposal-generation/main/literature/philosophy_of_immunology.pdf\n",
            "Resolving raw.githubusercontent.com (raw.githubusercontent.com)... 185.199.109.133, 185.199.108.133, 185.199.111.133, ...\n",
            "Connecting to raw.githubusercontent.com (raw.githubusercontent.com)|185.199.109.133|:443... connected.\n",
            "HTTP request sent, awaiting response... 200 OK\n",
            "Length: 3224100 (3.1M) [application/octet-stream]\n",
            "Saving to: ‘papers/philosophy_of_immunology.pdf’\n",
            "\n",
            "philosophy_of_immun 100%[===================>]   3.07M  --.-KB/s    in 0.01s   \n",
            "\n",
            "2023-05-19 16:18:02 (235 MB/s) - ‘papers/philosophy_of_immunology.pdf’ saved [3224100/3224100]\n",
            "\n"
          ]
        }
      ],
      "source": [
        "# Access files directly from GitHub\n",
        "!mkdir \"papers\"\n",
        "\n",
        "# This doesn't work anymore\n",
        "# INSTRUCTIONS: GO TO THE BELOW LINKS, DOWNLOAD, AND UPLOAD TO DIRECTORY \"PAPERS\"\n",
        "!wget \"https://github.com/vanderbilt-data-science/grant-proposal-generation/raw/main/literature/antigenic_mapping.pdf\" -P papers\n",
        "!wget \"https://github.com/vanderbilt-data-science/grant-proposal-generation/raw/main/literature/neutralizing_antibodies.pdf\" -P papers\n",
        "!wget \"https://github.com/vanderbilt-data-science/grant-proposal-generation/raw/main/literature/philosophy_of_immunology.pdf\" -P papers"
      ]
    },
    {
      "cell_type": "code",
      "execution_count": 5,
      "metadata": {
        "id": "zRqmJoOgIow-"
      },
      "outputs": [],
      "source": [
        "#create vector store \n",
        "\n",
        "root_dir = 'papers'\n",
        "\n",
        "\n",
        "pdf_dir = 'papers'\n",
        "pdf_loader = PyPDFDirectoryLoader(pdf_dir)\n",
        "pdf_docs = pdf_loader.load_and_split()"
      ]
    },
    {
      "cell_type": "code",
      "execution_count": null,
      "metadata": {
        "colab": {
          "base_uri": "https://localhost:8080/"
        },
        "id": "OoAjup-vMBOR",
        "outputId": "ad289cce-e46f-43e1-cfdd-522ad3ce81d2"
      },
      "outputs": [
        {
          "output_type": "stream",
          "name": "stdout",
          "text": [
            "180\n"
          ]
        }
      ],
      "source": [
        "text_splitter = CharacterTextSplitter(chunk_size=1000, chunk_overlap=0)\n",
        "texts = text_splitter.split_documents(pdf_docs)\n",
        "print(f\"{len(texts)}\")"
      ]
    },
    {
      "cell_type": "code",
      "execution_count": null,
      "metadata": {
        "colab": {
          "base_uri": "https://localhost:8080/"
        },
        "id": "LiAFJunlMWL8",
        "outputId": "03d65536-03f6-4506-fc20-b07a32acb33a"
      },
      "outputs": [
        {
          "output_type": "execute_result",
          "data": {
            "text/plain": [
              "OpenAIEmbeddings(client=<class 'openai.api_resources.embedding.Embedding'>, model='text-embedding-ada-002', deployment='text-embedding-ada-002', openai_api_version=None, openai_api_base=None, openai_api_type=None, embedding_ctx_length=8191, openai_api_key=None, openai_organization=None, allowed_special=set(), disallowed_special='all', chunk_size=1000, max_retries=6, request_timeout=None, headers=None)"
            ]
          },
          "metadata": {},
          "execution_count": 23
        }
      ],
      "source": [
        "embeddings = OpenAIEmbeddings()\n",
        "embeddings"
      ]
    },
    {
      "cell_type": "code",
      "execution_count": null,
      "metadata": {
        "colab": {
          "base_uri": "https://localhost:8080/"
        },
        "id": "Z8GHs9anMZ1A",
        "outputId": "5621e367-1dc4-41f4-c876-e6e585df1052"
      },
      "outputs": [
        {
          "output_type": "stream",
          "name": "stdout",
          "text": [
            "./documentation_db loaded successfully.\n"
          ]
        },
        {
          "output_type": "stream",
          "name": "stderr",
          "text": [
            "Evaluating ingest: 100%|██████████| 1/1 [00:06<00:00\n"
          ]
        },
        {
          "output_type": "stream",
          "name": "stdout",
          "text": [
            "Dataset(path='./documentation_db', tensors=['embedding', 'ids', 'metadata', 'text'])\n",
            "\n",
            "  tensor     htype      shape      dtype  compression\n",
            "  -------   -------    -------    -------  ------- \n",
            " embedding  generic  (180, 1536)  float32   None   \n",
            "    ids      text     (180, 1)      str     None   \n",
            " metadata    json     (180, 1)      str     None   \n",
            "   text      text     (180, 1)      str     None   \n"
          ]
        },
        {
          "output_type": "stream",
          "name": "stderr",
          "text": [
            "\r\r"
          ]
        }
      ],
      "source": [
        "db = DeepLake.from_documents(texts, dataset_path=\"./documentation_db\", embedding=embeddings, overwrite=True)"
      ]
    },
    {
      "cell_type": "code",
      "execution_count": null,
      "metadata": {
        "id": "6jMqOtEIOQ36"
      },
      "outputs": [],
      "source": [
        "def respond(message, chat_history):\n",
        "\n",
        "    # Get embeddings\n",
        "    embeddings = OpenAIEmbeddings()\n",
        "    \n",
        "    #Connect to existing vectorstore\n",
        "    db = DeepLake(dataset_path=\"./documentation_db\", embedding_function=embeddings, read_only=True)\n",
        "    #Set retriever settings\n",
        "    retriever = db.as_retriever(search_kwargs={\"distance_metric\":'cos',\n",
        "                                               #\"fetch_k\":5,\n",
        "                                               \"maximal_marginal_relevance\":True,\n",
        "                                               \"reduce_k_below_max_tokens\":True})\n",
        "                                               #\"k\":5})\n",
        "\n",
        "    if len(chat_history) != 0: \n",
        "        chat_history = [(chat_history[0][0], chat_history[0][1])]\n",
        "\n",
        "    # Create ChatOpenAI and ConversationalRetrievalChain\n",
        "    model = ChatOpenAI(model_name=\"gpt-3.5-turbo\") #they changed this in the latest version ##annoying (model == model_name)\n",
        "    qa = ConversationalRetrievalChain.from_llm(model, retriever)\n",
        "\n",
        "    bot_message = qa({\"question\": message, \"chat_history\": chat_history})\n",
        "    chat_history = [(message, bot_message[\"answer\"])]\n",
        "    time.sleep(1)\n",
        "    return \"\", chat_history"
      ]
    },
    {
      "cell_type": "code",
      "execution_count": null,
      "metadata": {
        "colab": {
          "base_uri": "https://localhost:8080/"
        },
        "id": "iepM9YXLOIiR",
        "outputId": "2407bdbf-4f86-4c24-ff0c-e5a168e7c51f"
      },
      "outputs": [
        {
          "output_type": "stream",
          "name": "stdout",
          "text": [
            "./documentation_db loaded successfully.\n",
            "\n"
          ]
        },
        {
          "output_type": "stream",
          "name": "stderr",
          "text": []
        },
        {
          "output_type": "stream",
          "name": "stdout",
          "text": [
            "Deep Lake Dataset in ./documentation_db already exists, loading from the storage\n",
            "Dataset(path='./documentation_db', read_only=True, tensors=['embedding', 'ids', 'metadata', 'text'])\n",
            "\n",
            "  tensor     htype      shape      dtype  compression\n",
            "  -------   -------    -------    -------  ------- \n",
            " embedding  generic  (180, 1536)  float32   None   \n",
            "    ids      text     (180, 1)      str     None   \n",
            " metadata    json     (180, 1)      str     None   \n",
            "   text      text     (180, 1)      str     None   \n"
          ]
        },
        {
          "output_type": "execute_result",
          "data": {
            "text/plain": [
              "('',\n",
              " [('Write a paragraph detailing recent advancements in immunology research.',\n",
              "   \"In recent years, advancements in immunology research have been significant and promising. The role of the immune system in cancer development and treatment has been a major focus, leading to the development of cancer immunotherapies that have shown unprecedented results in previously incurable cancers. Immune checkpoint inhibitors have particularly been explored and have led to the Nobel Prize in Physiology/Medicine being awarded to James P. Allison and Tasuku Honjo for their discovery of cancer therapy by inhibition of negative immune regulation. Additionally, research on the microbiome and its interactions with the immune system has shed light on the role of gut bacteria in various diseases and disorders. Overall, these advancements in immunology research offer new avenues for therapeutic interventions and a deeper understanding of the immune system's role in health and disease.\")])"
            ]
          },
          "metadata": {},
          "execution_count": 27
        }
      ],
      "source": [
        "respond(\"Write a paragraph detailing recent advancements in immunology research.\", []) #context length issues with 3.5-turbo #implement different memory system"
      ]
    },
    {
      "cell_type": "markdown",
      "metadata": {
        "id": "Ta9jU0YnVxaL"
      },
      "source": [
        "# Other memory options"
      ]
    },
    {
      "cell_type": "code",
      "execution_count": null,
      "metadata": {
        "id": "NY7XfyXQPOvp"
      },
      "outputs": [],
      "source": [
        "from langchain.memory import ConversationBufferMemory\n",
        "from langchain.llms import OpenAI\n",
        "memory = ConversationBufferMemory(memory_key=\"chat_history\", return_messages=True)"
      ]
    },
    {
      "cell_type": "code",
      "execution_count": null,
      "metadata": {
        "id": "98lXWb6TXHcG"
      },
      "outputs": [],
      "source": [
        "#Set retriever settings\n",
        "retriever = db.as_retriever(search_kwargs={\"distance_metric\":'cos',\n",
        "                                            \"fetch_k\":5,\n",
        "                                            \"maximal_marginal_relevance\":True,\n",
        "                                            \"k\":5})\n",
        "\n",
        "model = ChatOpenAI(model_name=\"gpt-3.5-turbo\") #they changed this in the latest version ##annoying (model == model_name)\n",
        "qa = ConversationalRetrievalChain.from_llm(model, retriever, memory=memory)"
      ]
    },
    {
      "cell_type": "code",
      "execution_count": null,
      "metadata": {
        "id": "x-BSDbtFXbkJ"
      },
      "outputs": [],
      "source": [
        "# EXAMPLE ask about immunology\n",
        "chat_history = []\n",
        "query = \"what are major areas of immunology research?\"\n",
        "result = qa({\"question\": query, \"chat_history\": chat_history})"
      ]
    },
    {
      "cell_type": "code",
      "execution_count": null,
      "metadata": {
        "colab": {
          "base_uri": "https://localhost:8080/"
        },
        "id": "FyLFVTPObYRL",
        "outputId": "a150a2bf-ac2e-41ad-d4d5-f01dcd5845dc"
      },
      "outputs": [
        {
          "output_type": "execute_result",
          "data": {
            "text/plain": [
              "{'question': 'what are major areas of immunology research?',\n",
              " 'chat_history': [HumanMessage(content='what are major areas of immunology research?', additional_kwargs={}, example=False),\n",
              "  AIMessage(content='Immunology research covers a wide range of topics, including the defense of the organism against pathogens, cancer, infectious diseases, vaccination, transplantation, autoimmune diseases, chronic inflammatory diseases, metabolic diseases, development, aging, repair and regeneration, and host-microbiota interactions, among others. Immunology is also central for our understanding of autoimmunity, allergies, and transplant rejection. Additionally, immunology plays a major role in the development and use of immunotherapies for cancer and other diseases.', additional_kwargs={}, example=False)],\n",
              " 'answer': 'Immunology research covers a wide range of topics, including the defense of the organism against pathogens, cancer, infectious diseases, vaccination, transplantation, autoimmune diseases, chronic inflammatory diseases, metabolic diseases, development, aging, repair and regeneration, and host-microbiota interactions, among others. Immunology is also central for our understanding of autoimmunity, allergies, and transplant rejection. Additionally, immunology plays a major role in the development and use of immunotherapies for cancer and other diseases.'}"
            ]
          },
          "metadata": {},
          "execution_count": 31
        }
      ],
      "source": [
        "result"
      ]
    },
    {
      "cell_type": "code",
      "execution_count": null,
      "metadata": {
        "id": "Cc4QdzIUbaee"
      },
      "outputs": [],
      "source": [
        "# EXAMPLE try a grant generation\n",
        "chat_history = []\n",
        "query = \"In a confident and excited voice, write an introduction for a grant for research on cancer immunology.\"\n",
        "result = qa({\"question\": query, \"chat_history\": chat_history})"
      ]
    },
    {
      "cell_type": "code",
      "execution_count": null,
      "metadata": {
        "colab": {
          "base_uri": "https://localhost:8080/"
        },
        "id": "kJE7mieensXT",
        "outputId": "785ecbab-6a24-4a0a-c7c0-163c62d01ceb"
      },
      "outputs": [
        {
          "output_type": "execute_result",
          "data": {
            "text/plain": [
              "{'question': 'In a confident and excited voice, write an introduction for a grant for research on cancer immunology.',\n",
              " 'chat_history': [HumanMessage(content='what are major areas of immunology research?', additional_kwargs={}, example=False),\n",
              "  AIMessage(content='Immunology research covers a wide range of topics, including the defense of the organism against pathogens, cancer, infectious diseases, vaccination, transplantation, autoimmune diseases, chronic inflammatory diseases, metabolic diseases, development, aging, repair and regeneration, and host-microbiota interactions, among others. Immunology is also central for our understanding of autoimmunity, allergies, and transplant rejection. Additionally, immunology plays a major role in the development and use of immunotherapies for cancer and other diseases.', additional_kwargs={}, example=False),\n",
              "  HumanMessage(content='In a confident and excited voice, write an introduction for a grant for research on cancer immunology.', additional_kwargs={}, example=False),\n",
              "  AIMessage(content=\"Introduction:\\n\\nCancer remains one of the most pressing health challenges facing humanity. Despite significant progress in understanding the underlying genetic and molecular mechanisms of cancer, current treatments often fail to achieve long-term remission or cure. In recent years, there has been a growing recognition that the immune system plays a critical role in cancer development and progression. This has led to the development of a new class of therapies known as cancer immunotherapies, which have shown unprecedented success in treating previously incurable cancers. \\n\\nThe goal of this grant proposal is to advance our understanding of the complex interactions between the immune system and cancer, with the aim of identifying new targets for immunotherapy and improving patient outcomes. Specifically, we propose to investigate the mechanisms by which the immune system can both restrain and promote cancerous tumors, and to develop novel strategies to enhance the immune response against cancer. \\n\\nOur multidisciplinary team brings together experts in cancer biology, immunology, and translational medicine, with a track record of innovative research and successful collaboration. We will employ cutting-edge technologies and models to study the immune system's role in cancer, including single-cell transcriptomics, imaging, and genetically engineered mouse models. \\n\\nBy advancing our understanding of cancer immunology, this research has the potential to transform cancer treatment and improve patient outcomes\", additional_kwargs={}, example=False)],\n",
              " 'answer': \"Introduction:\\n\\nCancer remains one of the most pressing health challenges facing humanity. Despite significant progress in understanding the underlying genetic and molecular mechanisms of cancer, current treatments often fail to achieve long-term remission or cure. In recent years, there has been a growing recognition that the immune system plays a critical role in cancer development and progression. This has led to the development of a new class of therapies known as cancer immunotherapies, which have shown unprecedented success in treating previously incurable cancers. \\n\\nThe goal of this grant proposal is to advance our understanding of the complex interactions between the immune system and cancer, with the aim of identifying new targets for immunotherapy and improving patient outcomes. Specifically, we propose to investigate the mechanisms by which the immune system can both restrain and promote cancerous tumors, and to develop novel strategies to enhance the immune response against cancer. \\n\\nOur multidisciplinary team brings together experts in cancer biology, immunology, and translational medicine, with a track record of innovative research and successful collaboration. We will employ cutting-edge technologies and models to study the immune system's role in cancer, including single-cell transcriptomics, imaging, and genetically engineered mouse models. \\n\\nBy advancing our understanding of cancer immunology, this research has the potential to transform cancer treatment and improve patient outcomes\"}"
            ]
          },
          "metadata": {},
          "execution_count": 33
        }
      ],
      "source": [
        "result"
      ]
    },
    {
      "cell_type": "markdown",
      "metadata": {
        "id": "s_eXqfRLq-bO"
      },
      "source": [
        "# Workflow\n",
        "\n",
        "1. Run all of the cells above (if interested, check the responses to the EXAMPLE cells for correctness).\n",
        "\n",
        "  a) Enter OpenAI API key in code cell #3 \n",
        "\n",
        "  b) If the files will not automatically upload to Colab, follow their GitHub links, download them manually, and upload to Colab in the \"papers\" directory.\n",
        "\n",
        "2. Insert your prompts into the cells below, following instructions for each. "
      ]
    },
    {
      "cell_type": "markdown",
      "metadata": {
        "id": "N6mhuoJ3hu5o"
      },
      "source": [
        "## First Step: Initialize Starting Grant"
      ]
    },
    {
      "cell_type": "code",
      "execution_count": null,
      "metadata": {
        "id": "1_ALbdeAmta2"
      },
      "outputs": [],
      "source": [
        "query = \"The following is a {section} of a grant on {topic}. {grant}\"\n",
        "\n"
      ]
    },
    {
      "cell_type": "markdown",
      "metadata": {
        "id": "Mk8h7n8hhzze"
      },
      "source": [
        "In the below cell, enter the section name in the `section` variable, paste the example grant section in the `grant` variable, and enter the topic in the `topic` variable."
      ]
    },
    {
      "cell_type": "code",
      "execution_count": null,
      "metadata": {
        "id": "g_2OUtaLhjNw"
      },
      "outputs": [],
      "source": [
        "section = \"ENTER SECTION NAME HERE (EX: INTRODUCTION)\"\n",
        "grant = \"PASTE GRANT HERE\"\n",
        "topic = \"ENTER TOPIC HERE (EX: CANCER IMMUNOLOGY)\""
      ]
    },
    {
      "cell_type": "code",
      "execution_count": null,
      "metadata": {
        "colab": {
          "base_uri": "https://localhost:8080/"
        },
        "id": "PbXKvL-CiDj4",
        "outputId": "fe14f1da-692d-4d3e-a9c8-76f1e324ce47"
      },
      "outputs": [
        {
          "name": "stdout",
          "output_type": "stream",
          "text": [
            "The following is a ENTER SECTION NAME HERE (EX: INTRODUCTION) of a grant on ENTER TOPIC HERE (EX: CANCER IMMUNOLOGY). PASTE GRANT HERE\n"
          ]
        }
      ],
      "source": [
        "query = query.format(section = section, topic = topic, grant = grant)\n",
        "print(query)"
      ]
    },
    {
      "cell_type": "code",
      "execution_count": null,
      "metadata": {
        "id": "_jzeWhLKhaMx"
      },
      "outputs": [],
      "source": [
        "result = qa({\"question\": query, \"chat_history\": chat_history})\n",
        "print(result)"
      ]
    },
    {
      "cell_type": "markdown",
      "metadata": {
        "id": "O4fr9GJlhrjR"
      },
      "source": [
        "## Second Step: Generate Grant based on example grant"
      ]
    },
    {
      "cell_type": "code",
      "execution_count": null,
      "metadata": {
        "id": "VrUF7CHqg607"
      },
      "outputs": [],
      "source": [
        "query = \"Using the previous grant section as a template, now write a {section} of a grant on {new_topic}\""
      ]
    },
    {
      "cell_type": "markdown",
      "metadata": {
        "id": "4_r9_8WBjJfS"
      },
      "source": [
        "As in the first step, add in the desired grant section and grant topic into the below variables."
      ]
    },
    {
      "cell_type": "code",
      "execution_count": null,
      "metadata": {
        "id": "2WYHkWQniuXN"
      },
      "outputs": [],
      "source": [
        "section = \"ENTER SECTION NAME HERE\"\n",
        "new_topic = \"ENTER NEW TOPIC HERE\""
      ]
    },
    {
      "cell_type": "code",
      "execution_count": null,
      "metadata": {
        "id": "jaB1DfK6isE3"
      },
      "outputs": [],
      "source": [
        "query = query.format(section = section, new_topic = new_topic)\n",
        "print(query)"
      ]
    },
    {
      "cell_type": "markdown",
      "metadata": {
        "id": "DQH86ra2jVjk"
      },
      "source": [
        "The below cell should now output the new grant section! Iterate on this using prompt engineering until you receive desired output."
      ]
    },
    {
      "cell_type": "code",
      "execution_count": null,
      "metadata": {
        "id": "yfuycHKlha3y"
      },
      "outputs": [],
      "source": [
        "result = qa({\"question\": query, \"chat_history\": chat_history})\n",
        "print(result)"
      ]
    },
    {
      "cell_type": "markdown",
      "metadata": {
        "id": "C7Q2V76Wj3QN"
      },
      "source": [
        "Keep doing this with the below cells until you have an entire grant!"
      ]
    },
    {
      "cell_type": "code",
      "execution_count": null,
      "metadata": {
        "id": "_ZAOMeEujge5"
      },
      "outputs": [],
      "source": [
        "query = \"Now write the {next_section} for the grant section you just generated.\"\n",
        "next_section = \"ENTER NEXT SECTION\"\n",
        "query = query.format(next_section = next_section)\n",
        "print(query)"
      ]
    },
    {
      "cell_type": "code",
      "execution_count": null,
      "metadata": {
        "id": "Sxbr_31ejwP_"
      },
      "outputs": [],
      "source": [
        "result = qa({\"question\": query, \"chat_history\": chat_history})\n",
        "print(result)"
      ]
    },
    {
      "cell_type": "code",
      "execution_count": null,
      "metadata": {
        "id": "P99RCR9_j789"
      },
      "outputs": [],
      "source": [
        "## REPEAT ABOVE UNTIL DESIRED OUTCOME ACHIEVED ##"
      ]
    },
    {
      "cell_type": "code",
      "execution_count": null,
      "metadata": {
        "id": "0B6Si70kkBZX"
      },
      "outputs": [],
      "source": []
    },
    {
      "cell_type": "markdown",
      "metadata": {
        "id": "sPLt4UOikDEG"
      },
      "source": [
        "Now let's save the output and see our entire grant!"
      ]
    },
    {
      "cell_type": "code",
      "execution_count": null,
      "metadata": {
        "id": "eLQH4OCSkGXC"
      },
      "outputs": [],
      "source": [
        "generated_grant_chat = chat_history"
      ]
    },
    {
      "cell_type": "markdown",
      "metadata": {
        "id": "qiQv6ibXkP5L"
      },
      "source": [
        "We will most likely need to format and edit this. But what a great start!"
      ]
    }
  ],
  "metadata": {
    "accelerator": "GPU",
    "colab": {
      "machine_shape": "hm",
      "provenance": [],
      "include_colab_link": true
    },
    "gpuClass": "standard",
    "kernelspec": {
      "display_name": "Python 3",
      "name": "python3"
    },
    "language_info": {
      "name": "python"
    }
  },
  "nbformat": 4,
  "nbformat_minor": 0
}