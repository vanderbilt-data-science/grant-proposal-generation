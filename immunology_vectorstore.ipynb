{
  "cells": [
    {
      "cell_type": "markdown",
      "metadata": {
        "id": "view-in-github",
        "colab_type": "text"
      },
      "source": [
        "<a href=\"https://colab.research.google.com/github/vanderbilt-data-science/grant-proposal-generation/blob/main/immunology_vectorstore.ipynb\" target=\"_parent\"><img src=\"https://colab.research.google.com/assets/colab-badge.svg\" alt=\"Open In Colab\"/></a>"
      ]
    },
    {
      "cell_type": "code",
      "execution_count": 1,
      "metadata": {
        "id": "61Nr1Z9BHTbF",
        "colab": {
          "base_uri": "https://localhost:8080/"
        },
        "outputId": "38f547ae-7439-4884-f15f-7bb7c9b7d1d6"
      },
      "outputs": [
        {
          "output_type": "stream",
          "name": "stdout",
          "text": [
            "\u001b[2K     \u001b[90m━━━━━━━━━━━━━━━━━━━━━━━━━━━━━━━━━━━━━━━\u001b[0m \u001b[32m869.7/869.7 kB\u001b[0m \u001b[31m8.2 MB/s\u001b[0m eta \u001b[36m0:00:00\u001b[0m\n",
            "\u001b[2K     \u001b[90m━━━━━━━━━━━━━━━━━━━━━━━━━━━━━━━━━━━━━━━━\u001b[0m \u001b[32m1.0/1.0 MB\u001b[0m \u001b[31m11.4 MB/s\u001b[0m eta \u001b[36m0:00:00\u001b[0m\n",
            "\u001b[2K     \u001b[90m━━━━━━━━━━━━━━━━━━━━━━━━━━━━━━━━━━━━━━━━\u001b[0m \u001b[32m90.0/90.0 kB\u001b[0m \u001b[31m2.8 MB/s\u001b[0m eta \u001b[36m0:00:00\u001b[0m\n",
            "\u001b[2K     \u001b[90m━━━━━━━━━━━━━━━━━━━━━━━━━━━━━━━━━━━━━━━\u001b[0m \u001b[32m114.5/114.5 kB\u001b[0m \u001b[31m2.1 MB/s\u001b[0m eta \u001b[36m0:00:00\u001b[0m\n",
            "\u001b[2K     \u001b[90m━━━━━━━━━━━━━━━━━━━━━━━━━━━━━━━━━━━━━━━\u001b[0m \u001b[32m268.8/268.8 kB\u001b[0m \u001b[31m4.5 MB/s\u001b[0m eta \u001b[36m0:00:00\u001b[0m\n",
            "\u001b[2K     \u001b[90m━━━━━━━━━━━━━━━━━━━━━━━━━━━━━━━━━━━━━━━\u001b[0m \u001b[32m149.6/149.6 kB\u001b[0m \u001b[31m2.8 MB/s\u001b[0m eta \u001b[36m0:00:00\u001b[0m\n",
            "\u001b[2K     \u001b[90m━━━━━━━━━━━━━━━━━━━━━━━━━━━━━━━━━━━━━━━━\u001b[0m \u001b[32m49.1/49.1 kB\u001b[0m \u001b[31m2.3 MB/s\u001b[0m eta \u001b[36m0:00:00\u001b[0m\n",
            "\u001b[2K     \u001b[90m━━━━━━━━━━━━━━━━━━━━━━━━━━━━━━━━━━━━━━━━\u001b[0m \u001b[32m72.0/72.0 kB\u001b[0m \u001b[31m2.9 MB/s\u001b[0m eta \u001b[36m0:00:00\u001b[0m\n",
            "\u001b[2K     \u001b[90m━━━━━━━━━━━━━━━━━━━━━━━━━━━━━━━━━━━━━━━━\u001b[0m \u001b[32m17.4/17.4 MB\u001b[0m \u001b[31m71.1 MB/s\u001b[0m eta \u001b[36m0:00:00\u001b[0m\n",
            "\u001b[2K     \u001b[90m━━━━━━━━━━━━━━━━━━━━━━━━━━━━━━━━━━━━━━━━\u001b[0m \u001b[32m57.0/57.0 kB\u001b[0m \u001b[31m6.8 MB/s\u001b[0m eta \u001b[36m0:00:00\u001b[0m\n",
            "\u001b[?25h  Preparing metadata (setup.py) ... \u001b[?25l\u001b[?25hdone\n",
            "\u001b[2K     \u001b[90m━━━━━━━━━━━━━━━━━━━━━━━━━━━━━━━━━━━━━━\u001b[0m \u001b[32m288.1/288.1 kB\u001b[0m \u001b[31m30.3 MB/s\u001b[0m eta \u001b[36m0:00:00\u001b[0m\n",
            "\u001b[2K     \u001b[90m━━━━━━━━━━━━━━━━━━━━━━━━━━━━━━━━━━━━━━━━\u001b[0m \u001b[32m75.4/75.4 kB\u001b[0m \u001b[31m8.5 MB/s\u001b[0m eta \u001b[36m0:00:00\u001b[0m\n",
            "\u001b[2K     \u001b[90m━━━━━━━━━━━━━━━━━━━━━━━━━━━━━━━━━━━━━━\u001b[0m \u001b[32m224.5/224.5 kB\u001b[0m \u001b[31m25.0 MB/s\u001b[0m eta \u001b[36m0:00:00\u001b[0m\n",
            "\u001b[2K     \u001b[90m━━━━━━━━━━━━━━━━━━━━━━━━━━━━━━━━━━━━━━━━\u001b[0m \u001b[32m50.5/50.5 kB\u001b[0m \u001b[31m5.8 MB/s\u001b[0m eta \u001b[36m0:00:00\u001b[0m\n",
            "\u001b[2K     \u001b[90m━━━━━━━━━━━━━━━━━━━━━━━━━━━━━━━━━━━━━━\u001b[0m \u001b[32m137.2/137.2 kB\u001b[0m \u001b[31m15.4 MB/s\u001b[0m eta \u001b[36m0:00:00\u001b[0m\n",
            "\u001b[2K     \u001b[90m━━━━━━━━━━━━━━━━━━━━━━━━━━━━━━━━━━━━━━━━\u001b[0m \u001b[32m45.7/45.7 kB\u001b[0m \u001b[31m3.8 MB/s\u001b[0m eta \u001b[36m0:00:00\u001b[0m\n",
            "\u001b[2K     \u001b[90m━━━━━━━━━━━━━━━━━━━━━━━━━━━━━━━━━━━━━━━━\u001b[0m \u001b[32m58.3/58.3 kB\u001b[0m \u001b[31m6.2 MB/s\u001b[0m eta \u001b[36m0:00:00\u001b[0m\n",
            "\u001b[2K     \u001b[90m━━━━━━━━━━━━━━━━━━━━━━━━━━━━━━━━━━━━━━\u001b[0m \u001b[32m129.9/129.9 kB\u001b[0m \u001b[31m14.6 MB/s\u001b[0m eta \u001b[36m0:00:00\u001b[0m\n",
            "\u001b[2K     \u001b[90m━━━━━━━━━━━━━━━━━━━━━━━━━━━━━━━━━━━━━━━━\u001b[0m \u001b[32m58.3/58.3 kB\u001b[0m \u001b[31m6.8 MB/s\u001b[0m eta \u001b[36m0:00:00\u001b[0m\n",
            "\u001b[2K     \u001b[90m━━━━━━━━━━━━━━━━━━━━━━━━━━━━━━━━━━━━━━━━\u001b[0m \u001b[32m67.0/67.0 kB\u001b[0m \u001b[31m5.4 MB/s\u001b[0m eta \u001b[36m0:00:00\u001b[0m\n",
            "\u001b[2K     \u001b[90m━━━━━━━━━━━━━━━━━━━━━━━━━━━━━━━━━━━━━━━━\u001b[0m \u001b[32m70.9/70.9 kB\u001b[0m \u001b[31m7.7 MB/s\u001b[0m eta \u001b[36m0:00:00\u001b[0m\n",
            "\u001b[?25h  Building wheel for ffmpy (setup.py) ... \u001b[?25l\u001b[?25hdone\n",
            "\u001b[2K     \u001b[90m━━━━━━━━━━━━━━━━━━━━━━━━━━━━━━━━━━━━━━━\u001b[0m \u001b[32m248.8/248.8 kB\u001b[0m \u001b[31m5.4 MB/s\u001b[0m eta \u001b[36m0:00:00\u001b[0m\n",
            "\u001b[2K     \u001b[90m━━━━━━━━━━━━━━━━━━━━━━━━━━━━━━━━━━━━━━━\u001b[0m \u001b[32m493.7/493.7 kB\u001b[0m \u001b[31m9.1 MB/s\u001b[0m eta \u001b[36m0:00:00\u001b[0m\n",
            "\u001b[?25h  Preparing metadata (setup.py) ... \u001b[?25l\u001b[?25hdone\n",
            "\u001b[2K     \u001b[90m━━━━━━━━━━━━━━━━━━━━━━━━━━━━━━━━━━━━━━\u001b[0m \u001b[32m135.6/135.6 kB\u001b[0m \u001b[31m16.1 MB/s\u001b[0m eta \u001b[36m0:00:00\u001b[0m\n",
            "\u001b[2K     \u001b[90m━━━━━━━━━━━━━━━━━━━━━━━━━━━━━━━━━━━━━━━━\u001b[0m \u001b[32m79.8/79.8 kB\u001b[0m \u001b[31m10.4 MB/s\u001b[0m eta \u001b[36m0:00:00\u001b[0m\n",
            "\u001b[2K     \u001b[90m━━━━━━━━━━━━━━━━━━━━━━━━━━━━━━━━━━━━━━━━\u001b[0m \u001b[32m6.7/6.7 MB\u001b[0m \u001b[31m70.8 MB/s\u001b[0m eta \u001b[36m0:00:00\u001b[0m\n",
            "\u001b[2K     \u001b[90m━━━━━━━━━━━━━━━━━━━━━━━━━━━━━━━━━━━━━━━━\u001b[0m \u001b[32m72.7/72.7 kB\u001b[0m \u001b[31m8.6 MB/s\u001b[0m eta \u001b[36m0:00:00\u001b[0m\n",
            "\u001b[2K     \u001b[90m━━━━━━━━━━━━━━━━━━━━━━━━━━━━━━━━━━━━━━━━\u001b[0m \u001b[32m10.4/10.4 MB\u001b[0m \u001b[31m99.4 MB/s\u001b[0m eta \u001b[36m0:00:00\u001b[0m\n",
            "\u001b[2K     \u001b[90m━━━━━━━━━━━━━━━━━━━━━━━━━━━━━━━━━━━━━━\u001b[0m \u001b[32m132.7/132.7 kB\u001b[0m \u001b[31m16.7 MB/s\u001b[0m eta \u001b[36m0:00:00\u001b[0m\n",
            "\u001b[2K     \u001b[90m━━━━━━━━━━━━━━━━━━━━━━━━━━━━━━━━━━━━━━━━\u001b[0m \u001b[32m79.8/79.8 kB\u001b[0m \u001b[31m10.5 MB/s\u001b[0m eta \u001b[36m0:00:00\u001b[0m\n",
            "\u001b[2K     \u001b[90m━━━━━━━━━━━━━━━━━━━━━━━━━━━━━━━━━━━━━━━━\u001b[0m \u001b[32m52.8/52.8 kB\u001b[0m \u001b[31m7.1 MB/s\u001b[0m eta \u001b[36m0:00:00\u001b[0m\n",
            "\u001b[2K     \u001b[90m━━━━━━━━━━━━━━━━━━━━━━━━━━━━━━━━━━━━━━\u001b[0m \u001b[32m110.5/110.5 kB\u001b[0m \u001b[31m13.2 MB/s\u001b[0m eta \u001b[36m0:00:00\u001b[0m\n",
            "\u001b[2K     \u001b[90m━━━━━━━━━━━━━━━━━━━━━━━━━━━━━━━━━━━━━━\u001b[0m \u001b[32m134.3/134.3 kB\u001b[0m \u001b[31m15.5 MB/s\u001b[0m eta \u001b[36m0:00:00\u001b[0m\n",
            "\u001b[?25h  Building wheel for deeplake (setup.py) ... \u001b[?25l\u001b[?25hdone\n",
            "\u001b[2K     \u001b[90m━━━━━━━━━━━━━━━━━━━━━━━━━━━━━━━━━━━━━━━━\u001b[0m \u001b[32m1.7/1.7 MB\u001b[0m \u001b[31m20.3 MB/s\u001b[0m eta \u001b[36m0:00:00\u001b[0m\n",
            "\u001b[?25h"
          ]
        }
      ],
      "source": [
        "!pip install -q langchain\n",
        "!pip install -q openai\n",
        "!pip install -q gradio\n",
        "!pip install -q pypdf\n",
        "!pip install -q deeplake\n",
        "!pip install -q tiktoken"
      ]
    },
    {
      "cell_type": "code",
      "execution_count": 2,
      "metadata": {
        "id": "hHA7O9oEHRrR",
        "colab": {
          "base_uri": "https://localhost:8080/"
        },
        "outputId": "63e80983-3050-4c05-b9f9-51e37fb2e839"
      },
      "outputs": [
        {
          "output_type": "stream",
          "name": "stderr",
          "text": [
            "WARNING:langchain.utilities.powerbi:Could not import azure.core python package.\n"
          ]
        }
      ],
      "source": [
        "import openai\n",
        "import random\n",
        "import time\n",
        "import gradio as gr\n",
        "import os\n",
        "from langchain.embeddings.openai import OpenAIEmbeddings\n",
        "from langchain.vectorstores import DeepLake\n",
        "from langchain.chat_models import ChatOpenAI\n",
        "from langchain.chains import ConversationalRetrievalChain\n",
        "from langchain.document_loaders import TextLoader\n",
        "from langchain.text_splitter import CharacterTextSplitter\n",
        "from langchain.document_loaders import PyPDFDirectoryLoader"
      ]
    },
    {
      "cell_type": "code",
      "execution_count": 3,
      "metadata": {
        "colab": {
          "base_uri": "https://localhost:8080/"
        },
        "id": "i3jFmmyTSlcM",
        "outputId": "fe00e22c-6b87-4f16-b4f8-4874caf475ae"
      },
      "outputs": [
        {
          "name": "stdout",
          "output_type": "stream",
          "text": [
            "··········\n"
          ]
        }
      ],
      "source": [
        "# add API key for the session\n",
        "\n",
        "##NOTE: YOU WILL NEED TO SET THE API KEY BEFORE CREATING THE DATASTORE\n",
        "from getpass import getpass\n",
        "openai_api_key = getpass()\n",
        "\n",
        "os.environ[\"OPENAI_API_KEY\"] = openai_api_key\n"
      ]
    },
    {
      "cell_type": "code",
      "execution_count": 4,
      "metadata": {
        "colab": {
          "base_uri": "https://localhost:8080/"
        },
        "id": "gO0NA6sKFUhW",
        "outputId": "286eb21a-9263-430c-a5b2-00da6ca6fa6e"
      },
      "outputs": [
        {
          "output_type": "stream",
          "name": "stdout",
          "text": [
            "--2023-05-19 17:39:18--  https://github.com/vanderbilt-data-science/grant-proposal-generation/raw/main/literature/antigenic_mapping.pdf\n",
            "Resolving github.com (github.com)... 20.27.177.113\n",
            "Connecting to github.com (github.com)|20.27.177.113|:443... connected.\n",
            "HTTP request sent, awaiting response... 302 Found\n",
            "Location: https://raw.githubusercontent.com/vanderbilt-data-science/grant-proposal-generation/main/literature/antigenic_mapping.pdf [following]\n",
            "--2023-05-19 17:39:19--  https://raw.githubusercontent.com/vanderbilt-data-science/grant-proposal-generation/main/literature/antigenic_mapping.pdf\n",
            "Resolving raw.githubusercontent.com (raw.githubusercontent.com)... 185.199.108.133, 185.199.109.133, 185.199.110.133, ...\n",
            "Connecting to raw.githubusercontent.com (raw.githubusercontent.com)|185.199.108.133|:443... connected.\n",
            "HTTP request sent, awaiting response... 200 OK\n",
            "Length: 5469040 (5.2M) [application/octet-stream]\n",
            "Saving to: ‘papers/antigenic_mapping.pdf’\n",
            "\n",
            "antigenic_mapping.p 100%[===================>]   5.21M  --.-KB/s    in 0.09s   \n",
            "\n",
            "2023-05-19 17:39:20 (58.9 MB/s) - ‘papers/antigenic_mapping.pdf’ saved [5469040/5469040]\n",
            "\n",
            "--2023-05-19 17:39:20--  https://github.com/vanderbilt-data-science/grant-proposal-generation/raw/main/literature/neutralizing_antibodies.pdf\n",
            "Resolving github.com (github.com)... 20.27.177.113\n",
            "Connecting to github.com (github.com)|20.27.177.113|:443... connected.\n",
            "HTTP request sent, awaiting response... 302 Found\n",
            "Location: https://raw.githubusercontent.com/vanderbilt-data-science/grant-proposal-generation/main/literature/neutralizing_antibodies.pdf [following]\n",
            "--2023-05-19 17:39:21--  https://raw.githubusercontent.com/vanderbilt-data-science/grant-proposal-generation/main/literature/neutralizing_antibodies.pdf\n",
            "Resolving raw.githubusercontent.com (raw.githubusercontent.com)... 185.199.108.133, 185.199.111.133, 185.199.109.133, ...\n",
            "Connecting to raw.githubusercontent.com (raw.githubusercontent.com)|185.199.108.133|:443... connected.\n",
            "HTTP request sent, awaiting response... 200 OK\n",
            "Length: 4444518 (4.2M) [application/octet-stream]\n",
            "Saving to: ‘papers/neutralizing_antibodies.pdf’\n",
            "\n",
            "neutralizing_antibo 100%[===================>]   4.24M  --.-KB/s    in 0.09s   \n",
            "\n",
            "2023-05-19 17:39:21 (48.6 MB/s) - ‘papers/neutralizing_antibodies.pdf’ saved [4444518/4444518]\n",
            "\n",
            "--2023-05-19 17:39:21--  https://github.com/vanderbilt-data-science/grant-proposal-generation/raw/main/literature/philosophy_of_immunology.pdf\n",
            "Resolving github.com (github.com)... 20.27.177.113\n",
            "Connecting to github.com (github.com)|20.27.177.113|:443... connected.\n",
            "HTTP request sent, awaiting response... 302 Found\n",
            "Location: https://raw.githubusercontent.com/vanderbilt-data-science/grant-proposal-generation/main/literature/philosophy_of_immunology.pdf [following]\n",
            "--2023-05-19 17:39:22--  https://raw.githubusercontent.com/vanderbilt-data-science/grant-proposal-generation/main/literature/philosophy_of_immunology.pdf\n",
            "Resolving raw.githubusercontent.com (raw.githubusercontent.com)... 185.199.111.133, 185.199.110.133, 185.199.109.133, ...\n",
            "Connecting to raw.githubusercontent.com (raw.githubusercontent.com)|185.199.111.133|:443... connected.\n",
            "HTTP request sent, awaiting response... 200 OK\n",
            "Length: 3224100 (3.1M) [application/octet-stream]\n",
            "Saving to: ‘papers/philosophy_of_immunology.pdf’\n",
            "\n",
            "philosophy_of_immun 100%[===================>]   3.07M  --.-KB/s    in 0.08s   \n",
            "\n",
            "2023-05-19 17:39:23 (36.7 MB/s) - ‘papers/philosophy_of_immunology.pdf’ saved [3224100/3224100]\n",
            "\n"
          ]
        }
      ],
      "source": [
        "# Access files directly from GitHub\n",
        "!mkdir \"papers\"\n",
        "\n",
        "# This doesn't work anymore\n",
        "# INSTRUCTIONS: GO TO THE BELOW LINKS, DOWNLOAD, AND UPLOAD TO DIRECTORY \"PAPERS\"\n",
        "!wget \"https://github.com/vanderbilt-data-science/grant-proposal-generation/raw/main/literature/antigenic_mapping.pdf\" -P papers\n",
        "!wget \"https://github.com/vanderbilt-data-science/grant-proposal-generation/raw/main/literature/neutralizing_antibodies.pdf\" -P papers\n",
        "!wget \"https://github.com/vanderbilt-data-science/grant-proposal-generation/raw/main/literature/philosophy_of_immunology.pdf\" -P papers"
      ]
    },
    {
      "cell_type": "code",
      "execution_count": 5,
      "metadata": {
        "id": "zRqmJoOgIow-"
      },
      "outputs": [],
      "source": [
        "#create vector store \n",
        "\n",
        "root_dir = 'papers'\n",
        "\n",
        "\n",
        "pdf_dir = 'papers'\n",
        "pdf_loader = PyPDFDirectoryLoader(pdf_dir)\n",
        "pdf_docs = pdf_loader.load_and_split()"
      ]
    },
    {
      "cell_type": "code",
      "execution_count": 6,
      "metadata": {
        "colab": {
          "base_uri": "https://localhost:8080/"
        },
        "id": "OoAjup-vMBOR",
        "outputId": "ad1425ab-9715-432d-c4ae-4bb69e11c791"
      },
      "outputs": [
        {
          "output_type": "stream",
          "name": "stdout",
          "text": [
            "180\n"
          ]
        }
      ],
      "source": [
        "text_splitter = CharacterTextSplitter(chunk_size=1000, chunk_overlap=0)\n",
        "texts = text_splitter.split_documents(pdf_docs)\n",
        "print(f\"{len(texts)}\")"
      ]
    },
    {
      "cell_type": "code",
      "execution_count": 7,
      "metadata": {
        "colab": {
          "base_uri": "https://localhost:8080/"
        },
        "id": "LiAFJunlMWL8",
        "outputId": "550818bc-708d-4d7c-85de-96ffc957ec19"
      },
      "outputs": [
        {
          "output_type": "execute_result",
          "data": {
            "text/plain": [
              "OpenAIEmbeddings(client=<class 'openai.api_resources.embedding.Embedding'>, model='text-embedding-ada-002', deployment='text-embedding-ada-002', openai_api_version=None, openai_api_base=None, openai_api_type=None, embedding_ctx_length=8191, openai_api_key=None, openai_organization=None, allowed_special=set(), disallowed_special='all', chunk_size=1000, max_retries=6, request_timeout=None, headers=None)"
            ]
          },
          "metadata": {},
          "execution_count": 7
        }
      ],
      "source": [
        "embeddings = OpenAIEmbeddings()\n",
        "embeddings"
      ]
    },
    {
      "cell_type": "code",
      "execution_count": 8,
      "metadata": {
        "colab": {
          "base_uri": "https://localhost:8080/"
        },
        "id": "Z8GHs9anMZ1A",
        "outputId": "9edc3fd5-8a0c-4630-955b-23998a19f5d5"
      },
      "outputs": [
        {
          "output_type": "stream",
          "name": "stdout",
          "text": [
            "./documentation_db loaded successfully.\n"
          ]
        },
        {
          "output_type": "stream",
          "name": "stderr",
          "text": [
            "Evaluating ingest: 100%|██████████| 1/1 [00:11<00:00\n"
          ]
        },
        {
          "output_type": "stream",
          "name": "stdout",
          "text": [
            "Dataset(path='./documentation_db', tensors=['embedding', 'ids', 'metadata', 'text'])\n",
            "\n",
            "  tensor     htype      shape      dtype  compression\n",
            "  -------   -------    -------    -------  ------- \n",
            " embedding  generic  (180, 1536)  float32   None   \n",
            "    ids      text     (180, 1)      str     None   \n",
            " metadata    json     (180, 1)      str     None   \n",
            "   text      text     (180, 1)      str     None   \n"
          ]
        },
        {
          "output_type": "stream",
          "name": "stderr",
          "text": [
            "\r\r"
          ]
        }
      ],
      "source": [
        "db = DeepLake.from_documents(texts, dataset_path=\"./documentation_db\", embedding=embeddings, overwrite=True)"
      ]
    },
    {
      "cell_type": "code",
      "execution_count": 9,
      "metadata": {
        "id": "6jMqOtEIOQ36"
      },
      "outputs": [],
      "source": [
        "def respond(message, chat_history):\n",
        "\n",
        "    # Get embeddings\n",
        "    embeddings = OpenAIEmbeddings()\n",
        "    \n",
        "    #Connect to existing vectorstore\n",
        "    db = DeepLake(dataset_path=\"./documentation_db\", embedding_function=embeddings, read_only=True)\n",
        "    #Set retriever settings\n",
        "    retriever = db.as_retriever(search_kwargs={\"distance_metric\":'cos',\n",
        "                                               #\"fetch_k\":5,\n",
        "                                               \"maximal_marginal_relevance\":True,\n",
        "                                               \"reduce_k_below_max_tokens\":True})\n",
        "                                               #\"k\":5})\n",
        "\n",
        "    if len(chat_history) != 0: \n",
        "        chat_history = [(chat_history[0][0], chat_history[0][1])]\n",
        "\n",
        "    # Create ChatOpenAI and ConversationalRetrievalChain\n",
        "    model = ChatOpenAI(model_name=\"gpt-3.5-turbo\") #they changed this in the latest version ##annoying (model == model_name)\n",
        "    qa = ConversationalRetrievalChain.from_llm(model, retriever)\n",
        "\n",
        "    bot_message = qa({\"question\": message, \"chat_history\": chat_history})\n",
        "    chat_history = [(message, bot_message[\"answer\"])]\n",
        "    time.sleep(1)\n",
        "    return \"\", chat_history"
      ]
    },
    {
      "cell_type": "code",
      "execution_count": 10,
      "metadata": {
        "colab": {
          "base_uri": "https://localhost:8080/"
        },
        "id": "iepM9YXLOIiR",
        "outputId": "763dbf1b-e3c2-4c7f-e857-cb7c2726d475"
      },
      "outputs": [
        {
          "output_type": "stream",
          "name": "stdout",
          "text": [
            "./documentation_db loaded successfully.\n",
            "\n"
          ]
        },
        {
          "output_type": "stream",
          "name": "stderr",
          "text": []
        },
        {
          "output_type": "stream",
          "name": "stdout",
          "text": [
            "Deep Lake Dataset in ./documentation_db already exists, loading from the storage\n",
            "Dataset(path='./documentation_db', read_only=True, tensors=['embedding', 'ids', 'metadata', 'text'])\n",
            "\n",
            "  tensor     htype      shape      dtype  compression\n",
            "  -------   -------    -------    -------  ------- \n",
            " embedding  generic  (180, 1536)  float32   None   \n",
            "    ids      text     (180, 1)      str     None   \n",
            " metadata    json     (180, 1)      str     None   \n",
            "   text      text     (180, 1)      str     None   \n"
          ]
        },
        {
          "output_type": "execute_result",
          "data": {
            "text/plain": [
              "('',\n",
              " [('Write a paragraph detailing recent advancements in immunology research.',\n",
              "   'Recent advancements in immunology research have led to remarkable clinical applications and have been described as revolutionary. The evidence showing that the immune system plays a central role in cancer development, either preventing or promoting cancer, is overwhelming. Investigations about the role of the immune system in cancer progression have led to specific clinical applications called “cancer immunotherapies,” which have shown unprecedented and sometimes even spectacular results, especially in cases of previously incurable cancers. Immune checkpoint inhibitors have been particularly explored in recent research and have led to the Nobel Prize in Physiology/Medicine awarded to James P. Allison and Tasuku Honjo in 2018, \"for their discovery of cancer therapy by inhibition of negative immune regulation.\" These advancements have convinced researchers working in all areas of cancer investigation and the lay public that it is indispensable to pay attention to the role of the immune system in cancer.')])"
            ]
          },
          "metadata": {},
          "execution_count": 10
        }
      ],
      "source": [
        "respond(\"Write a paragraph detailing recent advancements in immunology research.\", []) #context length issues with 3.5-turbo #implement different memory system"
      ]
    },
    {
      "cell_type": "markdown",
      "metadata": {
        "id": "Ta9jU0YnVxaL"
      },
      "source": [
        "# Other memory options"
      ]
    },
    {
      "cell_type": "code",
      "execution_count": 11,
      "metadata": {
        "id": "NY7XfyXQPOvp"
      },
      "outputs": [],
      "source": [
        "from langchain.memory import ConversationBufferMemory\n",
        "from langchain.llms import OpenAI\n",
        "memory = ConversationBufferMemory(memory_key=\"chat_history\", return_messages=True)"
      ]
    },
    {
      "cell_type": "code",
      "execution_count": 12,
      "metadata": {
        "id": "98lXWb6TXHcG"
      },
      "outputs": [],
      "source": [
        "#Set retriever settings\n",
        "retriever = db.as_retriever(search_kwargs={\"distance_metric\":'cos',\n",
        "                                            \"fetch_k\":5,\n",
        "                                            \"maximal_marginal_relevance\":True,\n",
        "                                            \"k\":5})\n",
        "\n",
        "model = ChatOpenAI(model_name=\"gpt-3.5-turbo\") #they changed this in the latest version ##annoying (model == model_name)\n",
        "qa = ConversationalRetrievalChain.from_llm(model, retriever, memory=memory)"
      ]
    },
    {
      "cell_type": "code",
      "execution_count": 13,
      "metadata": {
        "id": "x-BSDbtFXbkJ"
      },
      "outputs": [],
      "source": [
        "# EXAMPLE ask about immunology\n",
        "chat_history = []\n",
        "query = \"what are major areas of immunology research?\"\n",
        "result = qa({\"question\": query, \"chat_history\": chat_history})"
      ]
    },
    {
      "cell_type": "code",
      "execution_count": 14,
      "metadata": {
        "colab": {
          "base_uri": "https://localhost:8080/"
        },
        "id": "FyLFVTPObYRL",
        "outputId": "33736ebb-a12d-4b93-aadb-6a4e1f37210d"
      },
      "outputs": [
        {
          "output_type": "execute_result",
          "data": {
            "text/plain": [
              "{'question': 'what are major areas of immunology research?',\n",
              " 'chat_history': [HumanMessage(content='what are major areas of immunology research?', additional_kwargs={}, example=False),\n",
              "  AIMessage(content='Major areas of immunology research include the defense of the organism against pathogens, cancer immunotherapy, transplantation, autoimmune diseases, chronic inflammatory diseases, metabolic diseases, development, aging, repair and regeneration, and host-microbiota interactions, among many others.', additional_kwargs={}, example=False)],\n",
              " 'answer': 'Major areas of immunology research include the defense of the organism against pathogens, cancer immunotherapy, transplantation, autoimmune diseases, chronic inflammatory diseases, metabolic diseases, development, aging, repair and regeneration, and host-microbiota interactions, among many others.'}"
            ]
          },
          "metadata": {},
          "execution_count": 14
        }
      ],
      "source": [
        "result"
      ]
    },
    {
      "cell_type": "code",
      "execution_count": 15,
      "metadata": {
        "id": "Cc4QdzIUbaee"
      },
      "outputs": [],
      "source": [
        "# EXAMPLE try a grant generation\n",
        "chat_history = []\n",
        "query = \"In a confident and excited voice, write an introduction for a grant for research on cancer immunology.\"\n",
        "result = qa({\"question\": query, \"chat_history\": chat_history})"
      ]
    },
    {
      "cell_type": "code",
      "execution_count": 16,
      "metadata": {
        "colab": {
          "base_uri": "https://localhost:8080/"
        },
        "id": "kJE7mieensXT",
        "outputId": "f305864d-fad9-4bc7-fb15-a562a5c9ebab"
      },
      "outputs": [
        {
          "output_type": "execute_result",
          "data": {
            "text/plain": [
              "{'question': 'In a confident and excited voice, write an introduction for a grant for research on cancer immunology.',\n",
              " 'chat_history': [HumanMessage(content='what are major areas of immunology research?', additional_kwargs={}, example=False),\n",
              "  AIMessage(content='Major areas of immunology research include the defense of the organism against pathogens, cancer immunotherapy, transplantation, autoimmune diseases, chronic inflammatory diseases, metabolic diseases, development, aging, repair and regeneration, and host-microbiota interactions, among many others.', additional_kwargs={}, example=False),\n",
              "  HumanMessage(content='In a confident and excited voice, write an introduction for a grant for research on cancer immunology.', additional_kwargs={}, example=False),\n",
              "  AIMessage(content=\"Introduction:\\n\\nCancer is a disease that affects millions of people worldwide and remains a significant health concern. Despite significant advances in cancer diagnosis and treatment, current therapies have limitations, and cancer remains a leading cause of death. In recent years, research on the role of the immune system in cancer has expanded, and there is growing evidence that the immune system plays a crucial role in cancer development, progression, and treatment. Understanding the complex interactions between cancer cells and the immune system is essential to develop effective cancer therapies.\\n\\nThe goal of this grant proposal is to advance our understanding of cancer immunology by investigating the cellular and molecular mechanisms underlying the immune system's response to cancer. We aim to identify novel targets for cancer immunotherapy and develop innovative approaches for cancer treatment that exploit the immune system's potential. Our research will focus on studying the immune system's role in different types of cancer, including solid tumors and liquid tumors, to gain a comprehensive understanding of the immune system's contribution to cancer development and progression.\\n\\nWe believe that our research will have a significant impact on cancer treatment and patient outcomes. By elucidating the underlying mechanisms of cancer immunology, we hope to develop effective therapies that can improve patient survival and quality of life. This grant proposal aims to support our innovative research program and accelerate progress towards a\", additional_kwargs={}, example=False)],\n",
              " 'answer': \"Introduction:\\n\\nCancer is a disease that affects millions of people worldwide and remains a significant health concern. Despite significant advances in cancer diagnosis and treatment, current therapies have limitations, and cancer remains a leading cause of death. In recent years, research on the role of the immune system in cancer has expanded, and there is growing evidence that the immune system plays a crucial role in cancer development, progression, and treatment. Understanding the complex interactions between cancer cells and the immune system is essential to develop effective cancer therapies.\\n\\nThe goal of this grant proposal is to advance our understanding of cancer immunology by investigating the cellular and molecular mechanisms underlying the immune system's response to cancer. We aim to identify novel targets for cancer immunotherapy and develop innovative approaches for cancer treatment that exploit the immune system's potential. Our research will focus on studying the immune system's role in different types of cancer, including solid tumors and liquid tumors, to gain a comprehensive understanding of the immune system's contribution to cancer development and progression.\\n\\nWe believe that our research will have a significant impact on cancer treatment and patient outcomes. By elucidating the underlying mechanisms of cancer immunology, we hope to develop effective therapies that can improve patient survival and quality of life. This grant proposal aims to support our innovative research program and accelerate progress towards a\"}"
            ]
          },
          "metadata": {},
          "execution_count": 16
        }
      ],
      "source": [
        "result"
      ]
    },
    {
      "cell_type": "markdown",
      "metadata": {
        "id": "s_eXqfRLq-bO"
      },
      "source": [
        "# Workflow\n",
        "\n",
        "1. Run all of the cells above (if interested, check the responses to the EXAMPLE cells for correctness).\n",
        "\n",
        "  a) Enter OpenAI API key in code cell #3 \n",
        "\n",
        "  b) If the files will not automatically upload to Colab, follow their GitHub links, download them manually, and upload to Colab in the \"papers\" directory.\n",
        "\n",
        "2. Insert your prompts into the cells below, following instructions for each. "
      ]
    },
    {
      "cell_type": "markdown",
      "metadata": {
        "id": "N6mhuoJ3hu5o"
      },
      "source": [
        "## First Step: Initialize Starting Grant"
      ]
    },
    {
      "cell_type": "code",
      "execution_count": 17,
      "metadata": {
        "id": "1_ALbdeAmta2"
      },
      "outputs": [],
      "source": [
        "query = \"The following is a {section} of a grant on {topic}. {grant}\"\n",
        "\n"
      ]
    },
    {
      "cell_type": "markdown",
      "metadata": {
        "id": "Mk8h7n8hhzze"
      },
      "source": [
        "In the below cell, enter the section name in the `section` variable, paste the example grant section in the `grant` variable, and enter the topic in the `topic` variable."
      ]
    },
    {
      "cell_type": "code",
      "execution_count": 18,
      "metadata": {
        "id": "g_2OUtaLhjNw"
      },
      "outputs": [],
      "source": [
        "section = \"ENTER SECTION NAME HERE (EX: INTRODUCTION)\"\n",
        "grant = \"PASTE GRANT HERE\"\n",
        "topic = \"ENTER TOPIC HERE (EX: CANCER IMMUNOLOGY)\""
      ]
    },
    {
      "cell_type": "code",
      "execution_count": 19,
      "metadata": {
        "colab": {
          "base_uri": "https://localhost:8080/"
        },
        "id": "PbXKvL-CiDj4",
        "outputId": "d315f81b-1a0d-4fbc-8484-85c1ddd60423"
      },
      "outputs": [
        {
          "output_type": "stream",
          "name": "stdout",
          "text": [
            "The following is a ENTER SECTION NAME HERE (EX: INTRODUCTION) of a grant on ENTER TOPIC HERE (EX: CANCER IMMUNOLOGY). PASTE GRANT HERE\n"
          ]
        }
      ],
      "source": [
        "query = query.format(section = section, topic = topic, grant = grant)\n",
        "print(query)"
      ]
    },
    {
      "cell_type": "code",
      "execution_count": 37,
      "metadata": {
        "id": "_jzeWhLKhaMx",
        "colab": {
          "base_uri": "https://localhost:8080/"
        },
        "outputId": "574de626-e2b0-4e3b-c30c-f57df791d182"
      },
      "outputs": [
        {
          "output_type": "stream",
          "name": "stdout",
          "text": [
            "{'question': 'Now write the ENTER NEXT SECTION for the grant section you just generated.', 'chat_history': [HumanMessage(content='what are major areas of immunology research?', additional_kwargs={}, example=False), AIMessage(content='Major areas of immunology research include the defense of the organism against pathogens, cancer immunotherapy, transplantation, autoimmune diseases, chronic inflammatory diseases, metabolic diseases, development, aging, repair and regeneration, and host-microbiota interactions, among many others.', additional_kwargs={}, example=False), HumanMessage(content='In a confident and excited voice, write an introduction for a grant for research on cancer immunology.', additional_kwargs={}, example=False), AIMessage(content=\"Introduction:\\n\\nCancer is a disease that affects millions of people worldwide and remains a significant health concern. Despite significant advances in cancer diagnosis and treatment, current therapies have limitations, and cancer remains a leading cause of death. In recent years, research on the role of the immune system in cancer has expanded, and there is growing evidence that the immune system plays a crucial role in cancer development, progression, and treatment. Understanding the complex interactions between cancer cells and the immune system is essential to develop effective cancer therapies.\\n\\nThe goal of this grant proposal is to advance our understanding of cancer immunology by investigating the cellular and molecular mechanisms underlying the immune system's response to cancer. We aim to identify novel targets for cancer immunotherapy and develop innovative approaches for cancer treatment that exploit the immune system's potential. Our research will focus on studying the immune system's role in different types of cancer, including solid tumors and liquid tumors, to gain a comprehensive understanding of the immune system's contribution to cancer development and progression.\\n\\nWe believe that our research will have a significant impact on cancer treatment and patient outcomes. By elucidating the underlying mechanisms of cancer immunology, we hope to develop effective therapies that can improve patient survival and quality of life. This grant proposal aims to support our innovative research program and accelerate progress towards a\", additional_kwargs={}, example=False), HumanMessage(content='The following is a ENTER SECTION NAME HERE (EX: INTRODUCTION) of a grant on ENTER TOPIC HERE (EX: CANCER IMMUNOLOGY). PASTE GRANT HERE', additional_kwargs={}, example=False), AIMessage(content='The text does not provide information on a specific grant proposal on cancer immunology and does not mention any specific types of cancer that the research will focus on.', additional_kwargs={}, example=False), HumanMessage(content='Using the previous grant section as a template, now write a ENTER SECTION NAME HERE of a grant on ENTER NEW TOPIC HERE', additional_kwargs={}, example=False), AIMessage(content=\"I'm sorry, I cannot provide an example of a grant proposal on a different topic following the structure of the cancer immunology grant section provided as I do not have access to such information. However, I can provide guidance on the structure of a grant proposal. Typically, a grant proposal includes:\\n\\n1. Introduction: This section should provide the background and context for the proposed research, as well as a clear statement of the research question or hypothesis.\\n\\n2. Objectives: This section should outline the specific aims of the proposed research.\\n\\n3. Methods: This section should detail the methods and strategies that will be used to achieve the objectives of the proposed research, including data collection and analysis.\\n\\n4. Significance: This section should explain the potential impact and significance of the proposed research and how it will advance knowledge in the field.\\n\\n5. Timeline: This section should outline the timeline for the proposed research, including milestones and deliverables.\\n\\n6. Budget: This section should provide a detailed budget for the proposed research, including costs for personnel, equipment, supplies, and other expenses.\\n\\n7. References: This section should provide a list of references cited in the proposal.\\n\\nIt's important to note that the specific requirements and guidelines for grant proposals may vary\", additional_kwargs={}, example=False), HumanMessage(content='Now write the ENTER NEXT SECTION for the grant section you just generated.', additional_kwargs={}, example=False), AIMessage(content=\"I'm sorry, but I don't see any reference to a grant proposal or its structure in the provided context. Could you please clarify your question or provide more context?\", additional_kwargs={}, example=False), HumanMessage(content='Now write the ENTER NEXT SECTION for the grant section you just generated.', additional_kwargs={}, example=False), AIMessage(content=\"I'm sorry, I don't have enough information to answer your question. Could you please provide me with the general structure that the assistant provided?\", additional_kwargs={}, example=False)], 'answer': \"I'm sorry, I don't have enough information to answer your question. Could you please provide me with the general structure that the assistant provided?\"}\n"
          ]
        }
      ],
      "source": [
        "result = qa({\"question\": query, \"chat_history\": chat_history})\n",
        "print(result)"
      ]
    },
    {
      "cell_type": "markdown",
      "metadata": {
        "id": "O4fr9GJlhrjR"
      },
      "source": [
        "## Second Step: Generate Grant based on example grant"
      ]
    },
    {
      "cell_type": "code",
      "execution_count": 21,
      "metadata": {
        "id": "VrUF7CHqg607"
      },
      "outputs": [],
      "source": [
        "query = \"Using the previous grant section as a template, now write a {section} of a grant on {new_topic}\""
      ]
    },
    {
      "cell_type": "markdown",
      "metadata": {
        "id": "4_r9_8WBjJfS"
      },
      "source": [
        "As in the first step, add in the desired grant section and grant topic into the below variables."
      ]
    },
    {
      "cell_type": "code",
      "execution_count": 22,
      "metadata": {
        "id": "2WYHkWQniuXN"
      },
      "outputs": [],
      "source": [
        "section = \"ENTER SECTION NAME HERE\"\n",
        "new_topic = \"ENTER NEW TOPIC HERE\""
      ]
    },
    {
      "cell_type": "code",
      "execution_count": 23,
      "metadata": {
        "id": "jaB1DfK6isE3",
        "colab": {
          "base_uri": "https://localhost:8080/"
        },
        "outputId": "4dbf301d-61c9-4c49-faad-52d86d6e1198"
      },
      "outputs": [
        {
          "output_type": "stream",
          "name": "stdout",
          "text": [
            "Using the previous grant section as a template, now write a ENTER SECTION NAME HERE of a grant on ENTER NEW TOPIC HERE\n"
          ]
        }
      ],
      "source": [
        "query = query.format(section = section, new_topic = new_topic)\n",
        "print(query)"
      ]
    },
    {
      "cell_type": "markdown",
      "metadata": {
        "id": "DQH86ra2jVjk"
      },
      "source": [
        "The below cell should now output the new grant section! Iterate on this using prompt engineering until you receive desired output."
      ]
    },
    {
      "cell_type": "code",
      "execution_count": 24,
      "metadata": {
        "id": "yfuycHKlha3y",
        "colab": {
          "base_uri": "https://localhost:8080/"
        },
        "outputId": "ec2bd1e1-2729-40bc-d9a5-38f23cfc2cd4"
      },
      "outputs": [
        {
          "output_type": "stream",
          "name": "stderr",
          "text": [
            "WARNING:langchain.chat_models.openai:Retrying langchain.chat_models.openai.ChatOpenAI.completion_with_retry.<locals>._completion_with_retry in 1.0 seconds as it raised RateLimitError: That model is currently overloaded with other requests. You can retry your request, or contact us through our help center at help.openai.com if the error persists. (Please include the request ID f7230683e716b23d503923c22f6a3756 in your message.).\n"
          ]
        },
        {
          "output_type": "stream",
          "name": "stdout",
          "text": [
            "{'question': 'Using the previous grant section as a template, now write a ENTER SECTION NAME HERE of a grant on ENTER NEW TOPIC HERE', 'chat_history': [HumanMessage(content='what are major areas of immunology research?', additional_kwargs={}, example=False), AIMessage(content='Major areas of immunology research include the defense of the organism against pathogens, cancer immunotherapy, transplantation, autoimmune diseases, chronic inflammatory diseases, metabolic diseases, development, aging, repair and regeneration, and host-microbiota interactions, among many others.', additional_kwargs={}, example=False), HumanMessage(content='In a confident and excited voice, write an introduction for a grant for research on cancer immunology.', additional_kwargs={}, example=False), AIMessage(content=\"Introduction:\\n\\nCancer is a disease that affects millions of people worldwide and remains a significant health concern. Despite significant advances in cancer diagnosis and treatment, current therapies have limitations, and cancer remains a leading cause of death. In recent years, research on the role of the immune system in cancer has expanded, and there is growing evidence that the immune system plays a crucial role in cancer development, progression, and treatment. Understanding the complex interactions between cancer cells and the immune system is essential to develop effective cancer therapies.\\n\\nThe goal of this grant proposal is to advance our understanding of cancer immunology by investigating the cellular and molecular mechanisms underlying the immune system's response to cancer. We aim to identify novel targets for cancer immunotherapy and develop innovative approaches for cancer treatment that exploit the immune system's potential. Our research will focus on studying the immune system's role in different types of cancer, including solid tumors and liquid tumors, to gain a comprehensive understanding of the immune system's contribution to cancer development and progression.\\n\\nWe believe that our research will have a significant impact on cancer treatment and patient outcomes. By elucidating the underlying mechanisms of cancer immunology, we hope to develop effective therapies that can improve patient survival and quality of life. This grant proposal aims to support our innovative research program and accelerate progress towards a\", additional_kwargs={}, example=False), HumanMessage(content='The following is a ENTER SECTION NAME HERE (EX: INTRODUCTION) of a grant on ENTER TOPIC HERE (EX: CANCER IMMUNOLOGY). PASTE GRANT HERE', additional_kwargs={}, example=False), AIMessage(content='The text does not provide information on a specific grant proposal on cancer immunology and does not mention any specific types of cancer that the research will focus on.', additional_kwargs={}, example=False), HumanMessage(content='Using the previous grant section as a template, now write a ENTER SECTION NAME HERE of a grant on ENTER NEW TOPIC HERE', additional_kwargs={}, example=False), AIMessage(content=\"I'm sorry, I cannot provide an example of a grant proposal on a different topic following the structure of the cancer immunology grant section provided as I do not have access to such information. However, I can provide guidance on the structure of a grant proposal. Typically, a grant proposal includes:\\n\\n1. Introduction: This section should provide the background and context for the proposed research, as well as a clear statement of the research question or hypothesis.\\n\\n2. Objectives: This section should outline the specific aims of the proposed research.\\n\\n3. Methods: This section should detail the methods and strategies that will be used to achieve the objectives of the proposed research, including data collection and analysis.\\n\\n4. Significance: This section should explain the potential impact and significance of the proposed research and how it will advance knowledge in the field.\\n\\n5. Timeline: This section should outline the timeline for the proposed research, including milestones and deliverables.\\n\\n6. Budget: This section should provide a detailed budget for the proposed research, including costs for personnel, equipment, supplies, and other expenses.\\n\\n7. References: This section should provide a list of references cited in the proposal.\\n\\nIt's important to note that the specific requirements and guidelines for grant proposals may vary\", additional_kwargs={}, example=False)], 'answer': \"I'm sorry, I cannot provide an example of a grant proposal on a different topic following the structure of the cancer immunology grant section provided as I do not have access to such information. However, I can provide guidance on the structure of a grant proposal. Typically, a grant proposal includes:\\n\\n1. Introduction: This section should provide the background and context for the proposed research, as well as a clear statement of the research question or hypothesis.\\n\\n2. Objectives: This section should outline the specific aims of the proposed research.\\n\\n3. Methods: This section should detail the methods and strategies that will be used to achieve the objectives of the proposed research, including data collection and analysis.\\n\\n4. Significance: This section should explain the potential impact and significance of the proposed research and how it will advance knowledge in the field.\\n\\n5. Timeline: This section should outline the timeline for the proposed research, including milestones and deliverables.\\n\\n6. Budget: This section should provide a detailed budget for the proposed research, including costs for personnel, equipment, supplies, and other expenses.\\n\\n7. References: This section should provide a list of references cited in the proposal.\\n\\nIt's important to note that the specific requirements and guidelines for grant proposals may vary\"}\n"
          ]
        }
      ],
      "source": [
        "result = qa({\"question\": query, \"chat_history\": chat_history})\n",
        "print(result)"
      ]
    },
    {
      "cell_type": "markdown",
      "metadata": {
        "id": "C7Q2V76Wj3QN"
      },
      "source": [
        "Keep doing this with the below cells until you have an entire grant!"
      ]
    },
    {
      "cell_type": "code",
      "execution_count": 25,
      "metadata": {
        "id": "_ZAOMeEujge5",
        "colab": {
          "base_uri": "https://localhost:8080/"
        },
        "outputId": "33436e27-08dd-45ca-9a43-861d52767b04"
      },
      "outputs": [
        {
          "output_type": "stream",
          "name": "stdout",
          "text": [
            "Now write the ENTER NEXT SECTION for the grant section you just generated.\n"
          ]
        }
      ],
      "source": [
        "query = \"Now write the {next_section} for the grant section you just generated.\"\n",
        "next_section = \"ENTER NEXT SECTION\"\n",
        "query = query.format(next_section = next_section)\n",
        "print(query)"
      ]
    },
    {
      "cell_type": "code",
      "execution_count": 26,
      "metadata": {
        "id": "Sxbr_31ejwP_",
        "colab": {
          "base_uri": "https://localhost:8080/"
        },
        "outputId": "16ca1fe7-9247-49f8-80c2-10dcefc02891"
      },
      "outputs": [
        {
          "output_type": "stream",
          "name": "stdout",
          "text": [
            "{'question': 'Now write the ENTER NEXT SECTION for the grant section you just generated.', 'chat_history': [HumanMessage(content='what are major areas of immunology research?', additional_kwargs={}, example=False), AIMessage(content='Major areas of immunology research include the defense of the organism against pathogens, cancer immunotherapy, transplantation, autoimmune diseases, chronic inflammatory diseases, metabolic diseases, development, aging, repair and regeneration, and host-microbiota interactions, among many others.', additional_kwargs={}, example=False), HumanMessage(content='In a confident and excited voice, write an introduction for a grant for research on cancer immunology.', additional_kwargs={}, example=False), AIMessage(content=\"Introduction:\\n\\nCancer is a disease that affects millions of people worldwide and remains a significant health concern. Despite significant advances in cancer diagnosis and treatment, current therapies have limitations, and cancer remains a leading cause of death. In recent years, research on the role of the immune system in cancer has expanded, and there is growing evidence that the immune system plays a crucial role in cancer development, progression, and treatment. Understanding the complex interactions between cancer cells and the immune system is essential to develop effective cancer therapies.\\n\\nThe goal of this grant proposal is to advance our understanding of cancer immunology by investigating the cellular and molecular mechanisms underlying the immune system's response to cancer. We aim to identify novel targets for cancer immunotherapy and develop innovative approaches for cancer treatment that exploit the immune system's potential. Our research will focus on studying the immune system's role in different types of cancer, including solid tumors and liquid tumors, to gain a comprehensive understanding of the immune system's contribution to cancer development and progression.\\n\\nWe believe that our research will have a significant impact on cancer treatment and patient outcomes. By elucidating the underlying mechanisms of cancer immunology, we hope to develop effective therapies that can improve patient survival and quality of life. This grant proposal aims to support our innovative research program and accelerate progress towards a\", additional_kwargs={}, example=False), HumanMessage(content='The following is a ENTER SECTION NAME HERE (EX: INTRODUCTION) of a grant on ENTER TOPIC HERE (EX: CANCER IMMUNOLOGY). PASTE GRANT HERE', additional_kwargs={}, example=False), AIMessage(content='The text does not provide information on a specific grant proposal on cancer immunology and does not mention any specific types of cancer that the research will focus on.', additional_kwargs={}, example=False), HumanMessage(content='Using the previous grant section as a template, now write a ENTER SECTION NAME HERE of a grant on ENTER NEW TOPIC HERE', additional_kwargs={}, example=False), AIMessage(content=\"I'm sorry, I cannot provide an example of a grant proposal on a different topic following the structure of the cancer immunology grant section provided as I do not have access to such information. However, I can provide guidance on the structure of a grant proposal. Typically, a grant proposal includes:\\n\\n1. Introduction: This section should provide the background and context for the proposed research, as well as a clear statement of the research question or hypothesis.\\n\\n2. Objectives: This section should outline the specific aims of the proposed research.\\n\\n3. Methods: This section should detail the methods and strategies that will be used to achieve the objectives of the proposed research, including data collection and analysis.\\n\\n4. Significance: This section should explain the potential impact and significance of the proposed research and how it will advance knowledge in the field.\\n\\n5. Timeline: This section should outline the timeline for the proposed research, including milestones and deliverables.\\n\\n6. Budget: This section should provide a detailed budget for the proposed research, including costs for personnel, equipment, supplies, and other expenses.\\n\\n7. References: This section should provide a list of references cited in the proposal.\\n\\nIt's important to note that the specific requirements and guidelines for grant proposals may vary\", additional_kwargs={}, example=False), HumanMessage(content='Now write the ENTER NEXT SECTION for the grant section you just generated.', additional_kwargs={}, example=False), AIMessage(content=\"I'm sorry, but I don't see any reference to a grant proposal or its structure in the provided context. Could you please clarify your question or provide more context?\", additional_kwargs={}, example=False)], 'answer': \"I'm sorry, but I don't see any reference to a grant proposal or its structure in the provided context. Could you please clarify your question or provide more context?\"}\n"
          ]
        }
      ],
      "source": [
        "result = qa({\"question\": query, \"chat_history\": chat_history})\n",
        "print(result)"
      ]
    },
    {
      "cell_type": "code",
      "execution_count": 27,
      "metadata": {
        "id": "P99RCR9_j789"
      },
      "outputs": [],
      "source": [
        "## REPEAT ABOVE UNTIL DESIRED OUTCOME ACHIEVED ##"
      ]
    },
    {
      "cell_type": "code",
      "execution_count": 27,
      "metadata": {
        "id": "0B6Si70kkBZX"
      },
      "outputs": [],
      "source": []
    },
    {
      "cell_type": "markdown",
      "metadata": {
        "id": "sPLt4UOikDEG"
      },
      "source": [
        "Now let's save the output and see our entire output!"
      ]
    },
    {
      "cell_type": "code",
      "source": [
        "AI_responses = [result[\"chat_history\"][i] for i in range(1,len(result[\"chat_history\"]),2)]\n",
        "AI_responses"
      ],
      "metadata": {
        "colab": {
          "base_uri": "https://localhost:8080/"
        },
        "id": "VJamTjifHOzE",
        "outputId": "dba12dab-f53b-4c35-ccf8-11d396136267"
      },
      "execution_count": 36,
      "outputs": [
        {
          "output_type": "execute_result",
          "data": {
            "text/plain": [
              "[AIMessage(content='Major areas of immunology research include the defense of the organism against pathogens, cancer immunotherapy, transplantation, autoimmune diseases, chronic inflammatory diseases, metabolic diseases, development, aging, repair and regeneration, and host-microbiota interactions, among many others.', additional_kwargs={}, example=False),\n",
              " AIMessage(content=\"Introduction:\\n\\nCancer is a disease that affects millions of people worldwide and remains a significant health concern. Despite significant advances in cancer diagnosis and treatment, current therapies have limitations, and cancer remains a leading cause of death. In recent years, research on the role of the immune system in cancer has expanded, and there is growing evidence that the immune system plays a crucial role in cancer development, progression, and treatment. Understanding the complex interactions between cancer cells and the immune system is essential to develop effective cancer therapies.\\n\\nThe goal of this grant proposal is to advance our understanding of cancer immunology by investigating the cellular and molecular mechanisms underlying the immune system's response to cancer. We aim to identify novel targets for cancer immunotherapy and develop innovative approaches for cancer treatment that exploit the immune system's potential. Our research will focus on studying the immune system's role in different types of cancer, including solid tumors and liquid tumors, to gain a comprehensive understanding of the immune system's contribution to cancer development and progression.\\n\\nWe believe that our research will have a significant impact on cancer treatment and patient outcomes. By elucidating the underlying mechanisms of cancer immunology, we hope to develop effective therapies that can improve patient survival and quality of life. This grant proposal aims to support our innovative research program and accelerate progress towards a\", additional_kwargs={}, example=False),\n",
              " AIMessage(content='The text does not provide information on a specific grant proposal on cancer immunology and does not mention any specific types of cancer that the research will focus on.', additional_kwargs={}, example=False),\n",
              " AIMessage(content=\"I'm sorry, I cannot provide an example of a grant proposal on a different topic following the structure of the cancer immunology grant section provided as I do not have access to such information. However, I can provide guidance on the structure of a grant proposal. Typically, a grant proposal includes:\\n\\n1. Introduction: This section should provide the background and context for the proposed research, as well as a clear statement of the research question or hypothesis.\\n\\n2. Objectives: This section should outline the specific aims of the proposed research.\\n\\n3. Methods: This section should detail the methods and strategies that will be used to achieve the objectives of the proposed research, including data collection and analysis.\\n\\n4. Significance: This section should explain the potential impact and significance of the proposed research and how it will advance knowledge in the field.\\n\\n5. Timeline: This section should outline the timeline for the proposed research, including milestones and deliverables.\\n\\n6. Budget: This section should provide a detailed budget for the proposed research, including costs for personnel, equipment, supplies, and other expenses.\\n\\n7. References: This section should provide a list of references cited in the proposal.\\n\\nIt's important to note that the specific requirements and guidelines for grant proposals may vary\", additional_kwargs={}, example=False),\n",
              " AIMessage(content=\"I'm sorry, but I don't see any reference to a grant proposal or its structure in the provided context. Could you please clarify your question or provide more context?\", additional_kwargs={}, example=False)]"
            ]
          },
          "metadata": {},
          "execution_count": 36
        }
      ]
    },
    {
      "cell_type": "markdown",
      "metadata": {
        "id": "qiQv6ibXkP5L"
      },
      "source": [
        "We will most likely need to format and edit this. But what a great start!"
      ]
    }
  ],
  "metadata": {
    "accelerator": "GPU",
    "colab": {
      "machine_shape": "hm",
      "provenance": [],
      "include_colab_link": true
    },
    "gpuClass": "standard",
    "kernelspec": {
      "display_name": "Python 3",
      "name": "python3"
    },
    "language_info": {
      "name": "python"
    }
  },
  "nbformat": 4,
  "nbformat_minor": 0
}